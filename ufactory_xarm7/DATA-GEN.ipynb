{
 "cells": [
  {
   "cell_type": "code",
   "execution_count": 11,
   "id": "74ace949-009f-4e06-908d-3baba9a78adf",
   "metadata": {},
   "outputs": [],
   "source": [
    "import distutils.util\n",
    "import os\n",
    "import subprocess\n",
    "import mujoco\n",
    "import time\n",
    "import itertools\n",
    "import numpy as np\n",
    "import mediapy as media\n",
    "import matplotlib.pyplot as plt\n",
    "import pandas as pd\n",
    "from PIL import Image"
   ]
  },
  {
   "cell_type": "code",
   "execution_count": 2,
   "id": "80eecfe1-d02e-4e2d-b41b-97bf0bbb25ce",
   "metadata": {},
   "outputs": [],
   "source": [
    "xml = \"\"\"\n",
    "<mujoco model=\"xarm7\">\n",
    "  <compiler angle=\"radian\" autolimits=\"true\" meshdir=\"assets\"/>\n",
    "\n",
    "  <option integrator=\"implicitfast\"/>\n",
    "\n",
    "  <asset>\n",
    "    <material name=\"white\" rgba=\"1 1 1 1\"/>\n",
    "    <material name=\"gray\" rgba=\"0.753 0.753 0.753 1\"/>\n",
    "    <material name=\"black\" rgba=\"0.149 0.149 0.149 1\"/>\n",
    "\n",
    "    <mesh file=\"link_base.stl\"/>\n",
    "    <mesh file=\"link1.stl\"/>\n",
    "    <mesh file=\"link2.stl\"/>\n",
    "    <mesh file=\"link3.stl\"/>\n",
    "    <mesh file=\"link4.stl\"/>\n",
    "    <mesh file=\"link5.stl\"/>\n",
    "    <mesh file=\"link6.stl\"/>\n",
    "    <mesh file=\"link7.stl\"/>\n",
    "    <mesh file=\"end_tool.stl\"/>\n",
    "    <mesh file=\"base_link.stl\"/>\n",
    "    <mesh file=\"left_outer_knuckle.stl\"/>\n",
    "    <mesh file=\"left_finger.stl\"/>\n",
    "    <mesh file=\"left_inner_knuckle.stl\"/>\n",
    "    <mesh file=\"right_outer_knuckle.stl\"/>\n",
    "    <mesh file=\"right_finger.stl\"/>\n",
    "    <mesh file=\"right_inner_knuckle.stl\"/>\n",
    "  </asset>\n",
    "\n",
    "  <default>\n",
    "    <default class=\"xarm7\">\n",
    "      <geom type=\"mesh\" material=\"white\"/>\n",
    "      <joint axis=\"0 0 1\" range=\"-6.28319 6.28319\" frictionloss=\"1\"/>\n",
    "      <general biastype=\"affine\" ctrlrange=\"-6.28319 6.28319\"/>\n",
    "      <default class=\"size1\">\n",
    "        <joint damping=\"10\"/>\n",
    "        <general gainprm=\"1500\" biasprm=\"0 -1500 -150\" forcerange=\"-50 50\"/>\n",
    "      </default>\n",
    "      <default class=\"size2\">\n",
    "        <joint damping=\"5\"/>\n",
    "        <general gainprm=\"1000\" biasprm=\"0 -1000 -100\" forcerange=\"-30 30\"/>\n",
    "      </default>\n",
    "      <default class=\"size3\">\n",
    "        <joint damping=\"2\"/>\n",
    "        <general gainprm=\"800\" biasprm=\"0 -800 -80\" forcerange=\"-20 20\"/>\n",
    "      </default>\n",
    "      <default class=\"spring_link\">\n",
    "        <joint range=\"0 0.85\" stiffness=\"0.05\" springref=\"2.62\" damping=\"0.00125\"/>\n",
    "      </default>\n",
    "      <default class=\"driver\">\n",
    "        <joint range=\"0 0.85\" armature=\"0.005\" damping=\"0.1\" solreflimit=\"0.005 1\"/>\n",
    "      </default>\n",
    "      <default class=\"follower\">\n",
    "        <joint range=\"0 0.85\" solreflimit=\"0.005 1\"/>\n",
    "      </default>\n",
    "      <site size=\"0.001\" rgba=\"1 0 0 1\" group=\"4\"/>\n",
    "    </default>\n",
    "  </default>\n",
    "\n",
    "  <worldbody>\n",
    "    <body name=\"link_base\" pos=\"0 0 .12\" childclass=\"xarm7\">\n",
    "      <inertial pos=\"-0.021131 -0.0016302 0.056488\" quat=\"0.696843 0.20176 0.10388 0.680376\" mass=\"0.88556\"\n",
    "        diaginertia=\"0.00382023 0.00335282 0.00167725\"/>\n",
    "      <geom mesh=\"link_base\"/>\n",
    "      <body name=\"link1\" pos=\"0 0 0.267\">\n",
    "        <inertial pos=\"-0.0002 0.02905 -0.01233\" quat=\"0.978953 -0.202769 -0.00441617 -0.0227264\" mass=\"2.382\"\n",
    "          diaginertia=\"0.00569127 0.00533384 0.00293865\"/>\n",
    "        <joint name=\"joint1\" class=\"size1\"/>\n",
    "        <geom mesh=\"link1\"/>\n",
    "        <body name=\"link2\" quat=\"1 -1 0 0\">\n",
    "          <inertial pos=\"0.00022 -0.12856 0.01735\" quat=\"0.50198 0.86483 -0.00778841 0.00483285\" mass=\"1.869\"\n",
    "            diaginertia=\"0.00959898 0.00937717 0.00201315\"/>\n",
    "          <joint name=\"joint2\" range=\"-2.059 2.0944\" class=\"size1\"/>\n",
    "          <geom mesh=\"link2\"/>\n",
    "          <body name=\"link3\" pos=\"0 -0.293 0\" quat=\"1 1 0 0\">\n",
    "            <inertial pos=\"0.0466 -0.02463 -0.00768\" quat=\"0.913819 0.289775 0.281481 -0.0416455\" mass=\"1.6383\"\n",
    "              diaginertia=\"0.00351721 0.00294089 0.00195868\"/>\n",
    "            <joint name=\"joint3\" class=\"size2\"/>\n",
    "            <geom mesh=\"link3\"/>\n",
    "            <body name=\"link4\" pos=\"0.0525 0 0\" quat=\"1 1 0 0\">\n",
    "              <inertial pos=\"0.07047 -0.11575 0.012\" quat=\"0.422108 0.852026 -0.126025 0.282832\" mass=\"1.7269\"\n",
    "                diaginertia=\"0.00657137 0.00647948 0.00186763\"/>\n",
    "              <joint name=\"joint4\" range=\"-0.19198 3.927\" class=\"size2\"/>\n",
    "              <geom mesh=\"link4\"/>\n",
    "              <body name=\"link5\" pos=\"0.0775 -0.3425 0\" quat=\"1 1 0 0\">\n",
    "                <inertial pos=\"-0.00032 0.01604 -0.026\" quat=\"0.999311 -0.0304457 0.000577067 0.0212082\" mass=\"1.3203\"\n",
    "                  diaginertia=\"0.00534729 0.00499076 0.0013489\"/>\n",
    "                <joint name=\"joint5\" class=\"size2\"/>\n",
    "                <geom mesh=\"link5\"/>\n",
    "                <body name=\"link6\" quat=\"1 1 0 0\">\n",
    "                  <inertial pos=\"0.06469 0.03278 0.02141\" quat=\"-0.217672 0.772419 0.16258 0.574069\" mass=\"1.325\"\n",
    "                    diaginertia=\"0.00245421 0.00221646 0.00107273\"/>\n",
    "                  <joint name=\"joint6\" range=\"-1.69297 3.14159\" class=\"size3\"/>\n",
    "                  <geom mesh=\"link6\"/>\n",
    "                  <body name=\"link7\" pos=\"0.076 0.097 0\" quat=\"1 -1 0 0\">\n",
    "                    <inertial pos=\"0 -0.00677 -0.01098\" quat=\"0.487612 0.512088 -0.512088 0.487612\" mass=\"0.17\"\n",
    "                      diaginertia=\"0.000132176 9.3e-05 5.85236e-05\"/>\n",
    "                    <joint name=\"joint7\" class=\"size3\"/>\n",
    "                    <geom material=\"gray\" mesh=\"end_tool\"/>\n",
    "                    <body name=\"xarm_gripper_base_link\" quat=\"0 0 0 1\">\n",
    "                      <inertial pos=\"-0.00065489 -0.0018497 0.048028\" quat=\"0.997403 -0.0717512 -0.0061836 0.000477479\"\n",
    "                        mass=\"0.54156\" diaginertia=\"0.000471093 0.000332307 0.000254799\"/>\n",
    "                      <geom mesh=\"base_link\"/>\n",
    "                      <body name=\"left_outer_knuckle\" pos=\"0 0.035 0.059098\">\n",
    "                        <inertial pos=\"0 0.021559 0.015181\" quat=\"0.47789 0.87842 0 0\" mass=\"0.033618\"\n",
    "                          diaginertia=\"1.9111e-05 1.79089e-05 1.90167e-06\"/>\n",
    "                        <joint name=\"left_driver_joint\" axis=\"1 0 0\" class=\"driver\"/>\n",
    "                        <geom material=\"black\" mesh=\"left_outer_knuckle\"/>\n",
    "                        <body name=\"left_finger\" pos=\"0 0.035465 0.042039\">\n",
    "                          <inertial pos=\"0 -0.016413 0.029258\" quat=\"0.697634 0.115353 -0.115353 0.697634\"\n",
    "                            mass=\"0.048304\" diaginertia=\"1.88037e-05 1.7493e-05 3.56792e-06\"/>\n",
    "                          <joint name=\"left_finger_joint\" axis=\"-1 0 0\" class=\"follower\"/>\n",
    "                          <geom material=\"black\" mesh=\"left_finger\"/>\n",
    "                        </body>\n",
    "                      </body>\n",
    "                      <body name=\"left_inner_knuckle\" pos=\"0 0.02 0.074098\">\n",
    "                        <inertial pos=\"1.86601e-06 0.0220468 0.0261335\" quat=\"0.664139 -0.242732 0.242713 0.664146\"\n",
    "                          mass=\"0.0230126\" diaginertia=\"8.34216e-06 6.0949e-06 2.75601e-06\"/>\n",
    "                        <joint name=\"left_inner_knuckle_joint\" axis=\"1 0 0\" class=\"spring_link\"/>\n",
    "                        <geom material=\"black\" mesh=\"left_inner_knuckle\"/>\n",
    "                      </body>\n",
    "                      <body name=\"right_outer_knuckle\" pos=\"0 -0.035 0.059098\">\n",
    "                        <inertial pos=\"0 -0.021559 0.015181\" quat=\"0.87842 0.47789 0 0\" mass=\"0.033618\"\n",
    "                          diaginertia=\"1.9111e-05 1.79089e-05 1.90167e-06\"/>\n",
    "                        <joint name=\"right_driver_joint\" axis=\"-1 0 0\" class=\"driver\"/>\n",
    "                        <geom material=\"black\" mesh=\"right_outer_knuckle\"/>\n",
    "                        <body name=\"right_finger\" pos=\"0 -0.035465 0.042039\">\n",
    "                          <inertial pos=\"0 0.016413 0.029258\" quat=\"0.697634 -0.115356 0.115356 0.697634\"\n",
    "                            mass=\"0.048304\" diaginertia=\"1.88038e-05 1.7493e-05 3.56779e-06\"/>\n",
    "                          <joint name=\"right_finger_joint\" axis=\"1 0 0\" class=\"follower\"/>\n",
    "                          <geom material=\"black\" mesh=\"right_finger\"/>\n",
    "                        </body>\n",
    "                      </body>\n",
    "                      <body name=\"right_inner_knuckle\" pos=\"0 -0.02 0.074098\">\n",
    "                        <inertial pos=\"1.866e-06 -0.022047 0.026133\" quat=\"0.66415 0.242702 -0.242721 0.664144\"\n",
    "                          mass=\"0.023013\" diaginertia=\"8.34209e-06 6.0949e-06 2.75601e-06\"/>\n",
    "                        <joint name=\"right_inner_knuckle_joint\" axis=\"-1 0 0\" class=\"spring_link\"/>\n",
    "                        <geom material=\"black\" mesh=\"right_inner_knuckle\"/>\n",
    "                      </body>\n",
    "                      <site name=\"link_tcp\" pos=\"0 0 .172\"/>\n",
    "                    </body>\n",
    "                  </body>\n",
    "                </body>\n",
    "              </body>\n",
    "            </body>\n",
    "          </body>\n",
    "        </body>\n",
    "      </body>\n",
    "    </body>\n",
    "  </worldbody>\n",
    "\n",
    "  <contact>\n",
    "    <exclude body1=\"right_inner_knuckle\" body2=\"right_outer_knuckle\"/>\n",
    "    <exclude body1=\"right_inner_knuckle\" body2=\"right_finger\"/>\n",
    "    <exclude body1=\"left_inner_knuckle\" body2=\"left_outer_knuckle\"/>\n",
    "    <exclude body1=\"left_inner_knuckle\" body2=\"left_finger\"/>\n",
    "  </contact>\n",
    "\n",
    "  <tendon>\n",
    "    <fixed name=\"split\">\n",
    "      <joint joint=\"right_driver_joint\" coef=\"0.5\"/>\n",
    "      <joint joint=\"left_driver_joint\" coef=\"0.5\"/>\n",
    "    </fixed>\n",
    "  </tendon>\n",
    "\n",
    "  <equality>\n",
    "    <connect anchor=\"0 0.015 0.015\" body1=\"right_finger\" body2=\"right_inner_knuckle\" solref=\"0.005 1\"/>\n",
    "    <connect anchor=\"0 -0.015 0.015\" body1=\"left_finger\" body2=\"left_inner_knuckle\" solref=\"0.005 1\"/>\n",
    "    <joint joint1=\"left_driver_joint\" joint2=\"right_driver_joint\" polycoef=\"0 1 0 0 0\" solref=\"0.005 1\"/>\n",
    "  </equality>\n",
    "\n",
    "  <actuator>\n",
    "    <general name=\"act1\" joint=\"joint1\" class=\"size1\"/>\n",
    "    <general name=\"act2\" joint=\"joint2\" class=\"size1\" ctrlrange=\"-2.059 2.0944\"/>\n",
    "    <general name=\"act3\" joint=\"joint3\" class=\"size2\"/>\n",
    "    <general name=\"act4\" joint=\"joint4\" class=\"size2\" ctrlrange=\"-0.19198 3.927\"/>\n",
    "    <general name=\"act5\" joint=\"joint5\" class=\"size2\"/>\n",
    "    <general name=\"act6\" joint=\"joint6\" class=\"size3\" ctrlrange=\"-1.69297 3.14159\"/>\n",
    "    <general name=\"act7\" joint=\"joint7\" class=\"size3\"/>\n",
    "    <general name=\"gripper\" tendon=\"split\" forcerange=\"-50 50\" ctrlrange=\"0 255\" biastype=\"affine\" gainprm=\"0.333\"\n",
    "      biasprm=\"0 -100 -10\"/>\n",
    "  </actuator>\n",
    "\n",
    "  <keyframe>\n",
    "    <key name=\"home\" qpos=\"0 -.247 0 .909 0 1.15644 0 0 0 0 0 0 0\" ctrl=\"0 -.247 0 .909 0 1.15644 0 0\"/>\n",
    "  </keyframe>\n",
    "</mujoco>\n",
    "\n",
    "\n",
    "\"\"\"\n",
    "model = mujoco.MjModel.from_xml_string(xml)"
   ]
  },
  {
   "cell_type": "code",
   "execution_count": 3,
   "id": "6392a9bf-0e23-485f-924b-430cb197b455",
   "metadata": {},
   "outputs": [
    {
     "data": {
      "text/plain": [
       "15"
      ]
     },
     "execution_count": 3,
     "metadata": {},
     "output_type": "execute_result"
    }
   ],
   "source": [
    "model.ngeom"
   ]
  },
  {
   "cell_type": "code",
   "execution_count": 4,
   "id": "80192d4b-5032-41c7-99e2-ea9b2180a0fc",
   "metadata": {},
   "outputs": [
    {
     "data": {
      "text/plain": [
       "array([[0.5, 0.5, 0.5, 1. ],\n",
       "       [0.5, 0.5, 0.5, 1. ],\n",
       "       [0.5, 0.5, 0.5, 1. ],\n",
       "       [0.5, 0.5, 0.5, 1. ],\n",
       "       [0.5, 0.5, 0.5, 1. ],\n",
       "       [0.5, 0.5, 0.5, 1. ],\n",
       "       [0.5, 0.5, 0.5, 1. ],\n",
       "       [0.5, 0.5, 0.5, 1. ],\n",
       "       [0.5, 0.5, 0.5, 1. ],\n",
       "       [0.5, 0.5, 0.5, 1. ],\n",
       "       [0.5, 0.5, 0.5, 1. ],\n",
       "       [0.5, 0.5, 0.5, 1. ],\n",
       "       [0.5, 0.5, 0.5, 1. ],\n",
       "       [0.5, 0.5, 0.5, 1. ],\n",
       "       [0.5, 0.5, 0.5, 1. ]], dtype=float32)"
      ]
     },
     "execution_count": 4,
     "metadata": {},
     "output_type": "execute_result"
    }
   ],
   "source": [
    "model.geom_rgba"
   ]
  },
  {
   "cell_type": "code",
   "execution_count": 5,
   "id": "9b89724f-8f3c-4711-8e20-30af9d4ce103",
   "metadata": {},
   "outputs": [
    {
     "data": {
      "text/html": [
       "<table class=\"show_images\" style=\"border-spacing:0px;\"><tr><td style=\"padding:1px;\"><img width=\"320\" height=\"240\" style=\"image-rendering:auto; object-fit:cover;\" src=\"data:image/png;base64,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\"/></td></tr></table>"
      ],
      "text/plain": [
       "<IPython.core.display.HTML object>"
      ]
     },
     "metadata": {},
     "output_type": "display_data"
    }
   ],
   "source": [
    "model = mujoco.MjModel.from_xml_string(xml)\n",
    "data = mujoco.MjData(model)\n",
    "renderer = mujoco.Renderer(model)\n",
    "\n",
    "mujoco.mj_forward(model, data)\n",
    "renderer.update_scene(data)\n",
    "\n",
    "media.show_image(renderer.render())"
   ]
  },
  {
   "cell_type": "code",
   "execution_count": 16,
   "id": "66ff1155",
   "metadata": {},
   "outputs": [],
   "source": [
    "def save_image(count):\n",
    "    renderer = mujoco.Renderer(model)\n",
    "    renderer.update_scene(data)\n",
    "    # Render the image\n",
    "    rendered_image = renderer.render()\n",
    "    pil_image = Image.fromarray(rendered_image)\n",
    "    folder_path = \"images\"\n",
    "    if not os.path.exists(folder_path):\n",
    "        os.makedirs(folder_path)\n",
    "    filename = f'image{count}.png'\n",
    "    image_path = os.path.join(folder_path, filename)\n",
    "    pil_image.save(image_path)"
   ]
  },
  {
   "cell_type": "code",
   "execution_count": 6,
   "id": "ed6ea9cd-e9a4-4d1c-aa27-2cf0ea544c53",
   "metadata": {},
   "outputs": [
    {
     "name": "stdout",
     "output_type": "stream",
     "text": [
      "Total number of DoFs in the model: 13\n"
     ]
    }
   ],
   "source": [
    "print('Total number of DoFs in the model:', model.nv)"
   ]
  },
  {
   "cell_type": "code",
   "execution_count": 7,
   "id": "2134a796-8a3c-44bc-ae55-edbbb17966ed",
   "metadata": {},
   "outputs": [
    {
     "name": "stdout",
     "output_type": "stream",
     "text": [
      "[[-2.33092087e-03  7.63503426e-05  1.84660859e-01]\n",
      " [-1.41855430e-04  7.46384741e-03  3.59885790e-01]\n",
      " [-8.51807438e-05  4.84553684e-02  4.78245487e-01]\n",
      " [ 3.11604913e-02  2.01809082e-03  6.57433787e-01]\n",
      " [ 1.11448570e-01 -4.02904879e-02  6.03895070e-01]\n",
      " [ 1.29834481e-01 -3.17918275e-02  4.09791842e-01]\n",
      " [ 1.78996806e-01  9.04772188e-03  3.26251406e-01]\n",
      " [ 2.06000034e-01  1.43530439e-03  2.54016015e-01]\n",
      " [ 2.07367523e-01  1.80710294e-04  1.94591680e-01]\n",
      " [ 2.06000000e-01  5.23274557e-02  1.66294610e-01]\n",
      " [ 2.05985192e-01  5.49151927e-02  1.11322901e-01]\n",
      " [ 2.05971522e-01  4.09237498e-02  1.41599356e-01]\n",
      " [ 2.06000000e-01 -5.23274557e-02  1.66294610e-01]\n",
      " [ 2.05971625e-01 -5.49328460e-02  1.11354417e-01]\n",
      " [ 2.06003434e-01 -4.09219641e-02  1.41601022e-01]]\n"
     ]
    }
   ],
   "source": [
    "mujoco.mj_kinematics(model, data)\n",
    "print(data.geom_xpos)"
   ]
  },
  {
   "cell_type": "code",
   "execution_count": 17,
   "id": "1e357708",
   "metadata": {},
   "outputs": [
    {
     "ename": "KeyboardInterrupt",
     "evalue": "",
     "output_type": "error",
     "traceback": [
      "\u001b[1;31m---------------------------------------------------------------------------\u001b[0m",
      "\u001b[1;31mKeyboardInterrupt\u001b[0m                         Traceback (most recent call last)",
      "Cell \u001b[1;32mIn[17], line 24\u001b[0m\n\u001b[0;32m     22\u001b[0m data\u001b[38;5;241m.\u001b[39mctrl[\u001b[38;5;241m5\u001b[39m] \u001b[38;5;241m=\u001b[39m n\n\u001b[0;32m     23\u001b[0m mujoco\u001b[38;5;241m.\u001b[39mmj_step(model, data)\n\u001b[1;32m---> 24\u001b[0m \u001b[43msave_image\u001b[49m\u001b[43m(\u001b[49m\u001b[43mcount\u001b[49m\u001b[43m)\u001b[49m\n\u001b[0;32m     25\u001b[0m count \u001b[38;5;241m+\u001b[39m\u001b[38;5;241m=\u001b[39m \u001b[38;5;241m1\u001b[39m\n",
      "Cell \u001b[1;32mIn[16], line 5\u001b[0m, in \u001b[0;36msave_image\u001b[1;34m(count)\u001b[0m\n\u001b[0;32m      3\u001b[0m renderer\u001b[38;5;241m.\u001b[39mupdate_scene(data)\n\u001b[0;32m      4\u001b[0m \u001b[38;5;66;03m# Render the image\u001b[39;00m\n\u001b[1;32m----> 5\u001b[0m rendered_image \u001b[38;5;241m=\u001b[39m \u001b[43mrenderer\u001b[49m\u001b[38;5;241;43m.\u001b[39;49m\u001b[43mrender\u001b[49m\u001b[43m(\u001b[49m\u001b[43m)\u001b[49m\n\u001b[0;32m      6\u001b[0m pil_image \u001b[38;5;241m=\u001b[39m Image\u001b[38;5;241m.\u001b[39mfromarray(rendered_image)\n\u001b[0;32m      7\u001b[0m folder_path \u001b[38;5;241m=\u001b[39m \u001b[38;5;124m\"\u001b[39m\u001b[38;5;124mimages\u001b[39m\u001b[38;5;124m\"\u001b[39m\n",
      "File \u001b[1;32mc:\\Users\\Mahesh Reddy\\anaconda3\\envs\\mujoco-py\\Lib\\site-packages\\mujoco\\renderer.py:244\u001b[0m, in \u001b[0;36mRenderer.render\u001b[1;34m(self, out)\u001b[0m\n\u001b[0;32m    242\u001b[0m   np\u001b[38;5;241m.\u001b[39mcopyto(\u001b[38;5;28mself\u001b[39m\u001b[38;5;241m.\u001b[39m_scene\u001b[38;5;241m.\u001b[39mflags, original_flags)\n\u001b[0;32m    243\u001b[0m \u001b[38;5;28;01melse\u001b[39;00m:\n\u001b[1;32m--> 244\u001b[0m   \u001b[43m_render\u001b[49m\u001b[38;5;241;43m.\u001b[39;49m\u001b[43mmjr_readPixels\u001b[49m\u001b[43m(\u001b[49m\u001b[43mout\u001b[49m\u001b[43m,\u001b[49m\u001b[43m \u001b[49m\u001b[38;5;28;43;01mNone\u001b[39;49;00m\u001b[43m,\u001b[49m\u001b[43m \u001b[49m\u001b[38;5;28;43mself\u001b[39;49m\u001b[38;5;241;43m.\u001b[39;49m\u001b[43m_rect\u001b[49m\u001b[43m,\u001b[49m\u001b[43m \u001b[49m\u001b[38;5;28;43mself\u001b[39;49m\u001b[38;5;241;43m.\u001b[39;49m\u001b[43m_mjr_context\u001b[49m\u001b[43m)\u001b[49m\n\u001b[0;32m    246\u001b[0m out[:] \u001b[38;5;241m=\u001b[39m np\u001b[38;5;241m.\u001b[39mflipud(out)\n\u001b[0;32m    248\u001b[0m \u001b[38;5;28;01mreturn\u001b[39;00m out\n",
      "\u001b[1;31mKeyboardInterrupt\u001b[0m: "
     ]
    }
   ],
   "source": [
    "# Define the action spaces\n",
    "act0 = np.linspace(-6.28, 6.28, 3)\n",
    "act1 = np.linspace(-2.09, 2.09, 3)\n",
    "act2 = np.linspace(-6.28, 6.28, 3)\n",
    "act3 = np.linspace(-0.19, 3, 3)\n",
    "act4 = np.linspace(-6.28, 6.28, 3)\n",
    "act5 = np.linspace(-1.66, 3.49, 3)\n",
    "\n",
    "count = 0 #variable to pass to save_image func\n",
    "# Nested for loops for each action space\n",
    "for i in act0:\n",
    "    for j in act1:\n",
    "        for k in act2:\n",
    "            for l in act3:\n",
    "                for m in act4:\n",
    "                    for n in act5:\n",
    "                        data.ctrl[0] = i\n",
    "                        data.ctrl[1] = j\n",
    "                        data.ctrl[2] = k\n",
    "                        data.ctrl[3] = l\n",
    "                        data.ctrl[4] = m\n",
    "                        data.ctrl[5] = n\n",
    "                        mujoco.mj_step(model, data)\n",
    "                        save_image(count)\n",
    "                        count += 1"
   ]
  }
 ],
 "metadata": {
  "kernelspec": {
   "display_name": "Python 3 (ipykernel)",
   "language": "python",
   "name": "python3"
  },
  "language_info": {
   "codemirror_mode": {
    "name": "ipython",
    "version": 3
   },
   "file_extension": ".py",
   "mimetype": "text/x-python",
   "name": "python",
   "nbconvert_exporter": "python",
   "pygments_lexer": "ipython3",
   "version": "3.11.9"
  }
 },
 "nbformat": 4,
 "nbformat_minor": 5
}
